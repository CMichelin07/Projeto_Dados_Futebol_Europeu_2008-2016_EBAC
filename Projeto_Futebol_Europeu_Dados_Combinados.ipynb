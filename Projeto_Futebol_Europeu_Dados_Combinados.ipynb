{
  "nbformat": 4,
  "nbformat_minor": 0,
  "metadata": {
    "colab": {
      "provenance": []
    },
    "kernelspec": {
      "name": "python3",
      "display_name": "Python 3"
    },
    "language_info": {
      "name": "python"
    }
  },
  "cells": [
    {
      "cell_type": "code",
      "execution_count": 1,
      "metadata": {
        "id": "gl9aiHi7OQIt"
      },
      "outputs": [],
      "source": [
        "import pandas as pd"
      ]
    },
    {
      "cell_type": "code",
      "source": [
        "import sqlite3"
      ],
      "metadata": {
        "id": "8z8dEUbJW8Zc"
      },
      "execution_count": 2,
      "outputs": []
    },
    {
      "cell_type": "code",
      "source": [
        "from google.colab import drive\n",
        "drive.mount('/content/drive')"
      ],
      "metadata": {
        "colab": {
          "base_uri": "https://localhost:8080/"
        },
        "id": "rijT3LNORel-",
        "outputId": "da884a94-cefe-47dd-c3cf-4467f4ff6a57"
      },
      "execution_count": 3,
      "outputs": [
        {
          "output_type": "stream",
          "name": "stdout",
          "text": [
            "Drive already mounted at /content/drive; to attempt to forcibly remount, call drive.mount(\"/content/drive\", force_remount=True).\n"
          ]
        }
      ]
    },
    {
      "cell_type": "code",
      "source": [
        "conn = sqlite3.connect(\"drive/MyDrive/Projeto_Final_Ebac-Futebol_Europeu/database.sqlite\")"
      ],
      "metadata": {
        "id": "g18b8dsUXPh7"
      },
      "execution_count": 4,
      "outputs": []
    },
    {
      "cell_type": "code",
      "source": [
        "player_attributes = pd.read_csv('/content/drive/MyDrive/Projeto_Final_Ebac-Futebol_Europeu/overall_completo.csv')\n",
        "analise_gols = pd.read_csv('/content/drive/MyDrive/Projeto_Final_Ebac-Futebol_Europeu/analise_gols_por_time.csv')\n",
        "partidas_europeias = pd.read_csv('/content/drive/MyDrive/Projeto_Final_Ebac-Futebol_Europeu/partidas_com_ligas_e_paises.csv')"
      ],
      "metadata": {
        "collapsed": true,
        "id": "wemonxKVOcNi"
      },
      "execution_count": 5,
      "outputs": []
    },
    {
      "cell_type": "code",
      "source": [
        "print('Caracteristicas Jogadores:\\n', player_attributes)\n",
        "print('Análise de Gols:\\n', analise_gols)\n",
        "print('Partidas Europeias:\\n', partidas_europeias)"
      ],
      "metadata": {
        "colab": {
          "base_uri": "https://localhost:8080/"
        },
        "id": "5nctTZ-lTiT9",
        "outputId": "cc4dfdd8-9429-4739-f6e2-d7ed5a689886",
        "collapsed": true
      },
      "execution_count": 6,
      "outputs": [
        {
          "output_type": "stream",
          "name": "stdout",
          "text": [
            "Caracteristicas Jogadores:\n",
            "        player_api_id        player_name  altura  peso_incial  peso_final  \\\n",
            "0               2625  Patryk Rachwal,18  175.26          154         154   \n",
            "1               2752        Diego Mainz  187.96          174         174   \n",
            "2               2768        Jose Dorado  180.34          154         154   \n",
            "3               2770   Ignacio Gonzalez  180.34          161         161   \n",
            "4               2790        Alberto Rey  175.26          163         163   \n",
            "...              ...                ...     ...          ...         ...   \n",
            "11055         744907        Greg Taylor  172.72          137         137   \n",
            "11056         746419   Francisco Afonso  175.26          152         152   \n",
            "11057         748432     Fynn Arkenberg  187.96          176         176   \n",
            "11058         750435     Rees Greenwood  172.72          150         150   \n",
            "11059         750584  Alexandre Azevedo  175.26          150         150   \n",
            "\n",
            "      primeira_data  primeiro_overall ultima_data  ultimo_overall  \\\n",
            "0        2007-02-22              63.0  2015-01-16            61.0   \n",
            "1        2007-02-22              62.0  2015-10-16            72.0   \n",
            "2        2007-02-22              56.0  2016-03-17            74.0   \n",
            "3        2007-02-22              73.0  2013-07-05            69.0   \n",
            "4        2007-02-22              68.0  2010-08-30            67.0   \n",
            "...             ...               ...         ...             ...   \n",
            "11055    2007-02-22              51.0  2016-06-09            53.0   \n",
            "11056    2007-02-22              59.0  2016-05-12            59.0   \n",
            "11057    2007-02-22              58.0  2016-05-12            58.0   \n",
            "11058    2007-02-22              56.0  2016-04-14            60.0   \n",
            "11059    2007-02-22              58.0  2016-05-19            58.0   \n",
            "\n",
            "       idade_inicial  idade_final  evolucao  \n",
            "0                 26           33      -2.0  \n",
            "1                 24           32      10.0  \n",
            "2                 24           33      18.0  \n",
            "3                 24           31      -4.0  \n",
            "4                 33           36      -5.0  \n",
            "...              ...          ...       ...  \n",
            "11055              9           18       2.0  \n",
            "11056              9           19       0.0  \n",
            "11057             10           20       0.0  \n",
            "11058             11           20       4.0  \n",
            "11059             10           19       0.0  \n",
            "\n",
            "[11060 rows x 12 columns]\n",
            "Análise de Gols:\n",
            "          season  team_api_id                  time  total_gols_scored  \\\n",
            "0     2010/2011         8483             Blackpool                 55   \n",
            "1     2008/2009         7947         FCV Dender EH                 44   \n",
            "2     2015/2016         7896                Lugano                 46   \n",
            "3     2008/2009         9996  Royal Excel Mouscron                 42   \n",
            "4     2015/2016         8306         UD Las Palmas                 45   \n",
            "...         ...          ...                   ...                ...   \n",
            "1476  2013/2014         7841            Rio Ave FC                 21   \n",
            "1477  2008/2009         7841            Rio Ave FC                 20   \n",
            "1478  2013/2014         8475      Waasland-Beveren                  7   \n",
            "1479  2013/2014         9991              KAA Gent                 11   \n",
            "1480  2013/2014         9989             Lierse SK                  5   \n",
            "\n",
            "      total_partidas  media_gols_partida  \n",
            "0                 38            1.447368  \n",
            "1                 34            1.294118  \n",
            "2                 36            1.277778  \n",
            "3                 34            1.235294  \n",
            "4                 38            1.184211  \n",
            "...              ...                 ...  \n",
            "1476             248            0.084677  \n",
            "1477             248            0.080645  \n",
            "1478              96            0.072917  \n",
            "1479             218            0.050459  \n",
            "1480             126            0.039683  \n",
            "\n",
            "[1481 rows x 6 columns]\n",
            "Partidas Europeias:\n",
            "           id  country_id  league_id     season  stage                 date  \\\n",
            "0          1           1          1  2008/2009      1  2008-08-17 00:00:00   \n",
            "1          2           1          1  2008/2009      1  2008-08-16 00:00:00   \n",
            "2          3           1          1  2008/2009      1  2008-08-16 00:00:00   \n",
            "3          4           1          1  2008/2009      1  2008-08-17 00:00:00   \n",
            "4          5           1          1  2008/2009      1  2008-08-16 00:00:00   \n",
            "...      ...         ...        ...        ...    ...                  ...   \n",
            "25974  25975       24558      24558  2015/2016      9  2015-09-22 00:00:00   \n",
            "25975  25976       24558      24558  2015/2016      9  2015-09-23 00:00:00   \n",
            "25976  25977       24558      24558  2015/2016      9  2015-09-23 00:00:00   \n",
            "25977  25978       24558      24558  2015/2016      9  2015-09-22 00:00:00   \n",
            "25978  25979       24558      24558  2015/2016      9  2015-09-23 00:00:00   \n",
            "\n",
            "       match_api_id  home_team_api_id  away_team_api_id  home_team_goal  ...  \\\n",
            "0            492473              9987              9993               1  ...   \n",
            "1            492474             10000              9994               0  ...   \n",
            "2            492475              9984              8635               0  ...   \n",
            "3            492476              9991              9998               5  ...   \n",
            "4            492477              7947              9985               1  ...   \n",
            "...             ...               ...               ...             ...  ...   \n",
            "25974       1992091             10190             10191               1  ...   \n",
            "25975       1992092              9824             10199               1  ...   \n",
            "25976       1992093              9956             10179               2  ...   \n",
            "25977       1992094              7896             10243               0  ...   \n",
            "25978       1992095             10192              9931               4  ...   \n",
            "\n",
            "        VCD   VCA   GBH   GBD   GBA   BSH   BSD   BSA  \\\n",
            "0      3.40  4.50  1.78  3.25  4.00  1.73  3.40  4.20   \n",
            "1      3.25  3.25  1.85  3.25  3.75  1.91  3.25  3.60   \n",
            "2      3.25  2.65  2.50  3.20  2.50  2.30  3.20  2.75   \n",
            "3      3.75  6.50  1.50  3.75  5.50  1.44  3.75  6.50   \n",
            "4      3.40  1.65  4.50  3.50  1.65  4.75  3.30  1.67   \n",
            "...     ...   ...   ...   ...   ...   ...   ...   ...   \n",
            "25974   NaN   NaN   NaN   NaN   NaN   NaN   NaN   NaN   \n",
            "25975   NaN   NaN   NaN   NaN   NaN   NaN   NaN   NaN   \n",
            "25976   NaN   NaN   NaN   NaN   NaN   NaN   NaN   NaN   \n",
            "25977   NaN   NaN   NaN   NaN   NaN   NaN   NaN   NaN   \n",
            "25978   NaN   NaN   NaN   NaN   NaN   NaN   NaN   NaN   \n",
            "\n",
            "                    league_name  country_name  \n",
            "0        Belgium Jupiler League       Belgium  \n",
            "1        Belgium Jupiler League       Belgium  \n",
            "2        Belgium Jupiler League       Belgium  \n",
            "3        Belgium Jupiler League       Belgium  \n",
            "4        Belgium Jupiler League       Belgium  \n",
            "...                         ...           ...  \n",
            "25974  Switzerland Super League   Switzerland  \n",
            "25975  Switzerland Super League   Switzerland  \n",
            "25976  Switzerland Super League   Switzerland  \n",
            "25977  Switzerland Super League   Switzerland  \n",
            "25978  Switzerland Super League   Switzerland  \n",
            "\n",
            "[25979 rows x 117 columns]\n"
          ]
        }
      ]
    },
    {
      "cell_type": "code",
      "source": [
        "#Criando uma funcao que contenha a coluna Season para a tabela dos jogadores\n",
        "def define_season(date):\n",
        "  if pd.isnull(date):\n",
        "    return None\n",
        "  if date.month < 7:\n",
        "    return f\"{date.year - 1}/{date.year}\"\n",
        "  else:\n",
        "    return f\"{date.year}/{date.year + 1}\"\n",
        "\n",
        "# Convert the date columns to datetime objects BEFORE applying the function\n",
        "player_attributes['primeira_data'] = pd.to_datetime(player_attributes['primeira_data'], errors='coerce')\n",
        "player_attributes['ultima_data'] = pd.to_datetime(player_attributes['ultima_data'], errors='coerce')\n",
        "\n",
        "# Apply the define_season function to the converted datetime columns\n",
        "player_attributes['season_first'] = player_attributes['primeira_data'].apply(define_season)\n",
        "player_attributes['season_last'] = player_attributes['ultima_data'].apply(define_season)\n",
        "\n",
        "print(player_attributes[['primeira_data', 'season_first', 'ultima_data', 'season_last']].head(10))"
      ],
      "metadata": {
        "colab": {
          "base_uri": "https://localhost:8080/"
        },
        "collapsed": true,
        "id": "kqDBj0ovGWzw",
        "outputId": "b4312126-b452-42af-8809-e3fd8c3c8984"
      },
      "execution_count": 7,
      "outputs": [
        {
          "output_type": "stream",
          "name": "stdout",
          "text": [
            "  primeira_data season_first ultima_data season_last\n",
            "0    2007-02-22    2006/2007  2015-01-16   2014/2015\n",
            "1    2007-02-22    2006/2007  2015-10-16   2015/2016\n",
            "2    2007-02-22    2006/2007  2016-03-17   2015/2016\n",
            "3    2007-02-22    2006/2007  2013-07-05   2013/2014\n",
            "4    2007-02-22    2006/2007  2010-08-30   2010/2011\n",
            "5    2007-02-22    2006/2007  2016-01-21   2015/2016\n",
            "6    2007-02-22    2006/2007  2015-11-19   2015/2016\n",
            "7    2007-02-22    2006/2007  2016-04-28   2015/2016\n",
            "8    2007-02-22    2006/2007  2014-04-11   2013/2014\n",
            "9    2007-02-22    2006/2007  2015-11-26   2015/2016\n"
          ]
        }
      ]
    },
    {
      "cell_type": "code",
      "source": [
        "print(player_attributes)"
      ],
      "metadata": {
        "colab": {
          "base_uri": "https://localhost:8080/"
        },
        "id": "pPmXAwYfiami",
        "outputId": "001d0afd-27f6-4aea-80ce-21392a53ebd5"
      },
      "execution_count": 8,
      "outputs": [
        {
          "output_type": "stream",
          "name": "stdout",
          "text": [
            "       player_api_id        player_name  altura  peso_incial  peso_final  \\\n",
            "0               2625  Patryk Rachwal,18  175.26          154         154   \n",
            "1               2752        Diego Mainz  187.96          174         174   \n",
            "2               2768        Jose Dorado  180.34          154         154   \n",
            "3               2770   Ignacio Gonzalez  180.34          161         161   \n",
            "4               2790        Alberto Rey  175.26          163         163   \n",
            "...              ...                ...     ...          ...         ...   \n",
            "11055         744907        Greg Taylor  172.72          137         137   \n",
            "11056         746419   Francisco Afonso  175.26          152         152   \n",
            "11057         748432     Fynn Arkenberg  187.96          176         176   \n",
            "11058         750435     Rees Greenwood  172.72          150         150   \n",
            "11059         750584  Alexandre Azevedo  175.26          150         150   \n",
            "\n",
            "      primeira_data  primeiro_overall ultima_data  ultimo_overall  \\\n",
            "0        2007-02-22              63.0  2015-01-16            61.0   \n",
            "1        2007-02-22              62.0  2015-10-16            72.0   \n",
            "2        2007-02-22              56.0  2016-03-17            74.0   \n",
            "3        2007-02-22              73.0  2013-07-05            69.0   \n",
            "4        2007-02-22              68.0  2010-08-30            67.0   \n",
            "...             ...               ...         ...             ...   \n",
            "11055    2007-02-22              51.0  2016-06-09            53.0   \n",
            "11056    2007-02-22              59.0  2016-05-12            59.0   \n",
            "11057    2007-02-22              58.0  2016-05-12            58.0   \n",
            "11058    2007-02-22              56.0  2016-04-14            60.0   \n",
            "11059    2007-02-22              58.0  2016-05-19            58.0   \n",
            "\n",
            "       idade_inicial  idade_final  evolucao season_first season_last  \n",
            "0                 26           33      -2.0    2006/2007   2014/2015  \n",
            "1                 24           32      10.0    2006/2007   2015/2016  \n",
            "2                 24           33      18.0    2006/2007   2015/2016  \n",
            "3                 24           31      -4.0    2006/2007   2013/2014  \n",
            "4                 33           36      -5.0    2006/2007   2010/2011  \n",
            "...              ...          ...       ...          ...         ...  \n",
            "11055              9           18       2.0    2006/2007   2015/2016  \n",
            "11056              9           19       0.0    2006/2007   2015/2016  \n",
            "11057             10           20       0.0    2006/2007   2015/2016  \n",
            "11058             11           20       4.0    2006/2007   2015/2016  \n",
            "11059             10           19       0.0    2006/2007   2015/2016  \n",
            "\n",
            "[11060 rows x 14 columns]\n"
          ]
        }
      ]
    },
    {
      "cell_type": "code",
      "source": [
        "def define_season(date):\n",
        "  ano = date.year\n",
        "  if date.month >= 7:\n",
        "    return f\"{ano}/{ano+1}\"\n",
        "  else:\n",
        "    return f\"{ano-1}/{ano}\"\n",
        "\n",
        "player_attributes['season'] = player_attributes['ultima_data'].apply(define_season)"
      ],
      "metadata": {
        "id": "oUU2tF-2ymre"
      },
      "execution_count": 9,
      "outputs": []
    },
    {
      "cell_type": "code",
      "source": [
        "print(player_attributes)"
      ],
      "metadata": {
        "colab": {
          "base_uri": "https://localhost:8080/"
        },
        "id": "V15JjFuQO-X8",
        "outputId": "da76e52b-8adb-4532-d71f-5b801eaeee83"
      },
      "execution_count": 10,
      "outputs": [
        {
          "output_type": "stream",
          "name": "stdout",
          "text": [
            "       player_api_id        player_name  altura  peso_incial  peso_final  \\\n",
            "0               2625  Patryk Rachwal,18  175.26          154         154   \n",
            "1               2752        Diego Mainz  187.96          174         174   \n",
            "2               2768        Jose Dorado  180.34          154         154   \n",
            "3               2770   Ignacio Gonzalez  180.34          161         161   \n",
            "4               2790        Alberto Rey  175.26          163         163   \n",
            "...              ...                ...     ...          ...         ...   \n",
            "11055         744907        Greg Taylor  172.72          137         137   \n",
            "11056         746419   Francisco Afonso  175.26          152         152   \n",
            "11057         748432     Fynn Arkenberg  187.96          176         176   \n",
            "11058         750435     Rees Greenwood  172.72          150         150   \n",
            "11059         750584  Alexandre Azevedo  175.26          150         150   \n",
            "\n",
            "      primeira_data  primeiro_overall ultima_data  ultimo_overall  \\\n",
            "0        2007-02-22              63.0  2015-01-16            61.0   \n",
            "1        2007-02-22              62.0  2015-10-16            72.0   \n",
            "2        2007-02-22              56.0  2016-03-17            74.0   \n",
            "3        2007-02-22              73.0  2013-07-05            69.0   \n",
            "4        2007-02-22              68.0  2010-08-30            67.0   \n",
            "...             ...               ...         ...             ...   \n",
            "11055    2007-02-22              51.0  2016-06-09            53.0   \n",
            "11056    2007-02-22              59.0  2016-05-12            59.0   \n",
            "11057    2007-02-22              58.0  2016-05-12            58.0   \n",
            "11058    2007-02-22              56.0  2016-04-14            60.0   \n",
            "11059    2007-02-22              58.0  2016-05-19            58.0   \n",
            "\n",
            "       idade_inicial  idade_final  evolucao season_first season_last  \\\n",
            "0                 26           33      -2.0    2006/2007   2014/2015   \n",
            "1                 24           32      10.0    2006/2007   2015/2016   \n",
            "2                 24           33      18.0    2006/2007   2015/2016   \n",
            "3                 24           31      -4.0    2006/2007   2013/2014   \n",
            "4                 33           36      -5.0    2006/2007   2010/2011   \n",
            "...              ...          ...       ...          ...         ...   \n",
            "11055              9           18       2.0    2006/2007   2015/2016   \n",
            "11056              9           19       0.0    2006/2007   2015/2016   \n",
            "11057             10           20       0.0    2006/2007   2015/2016   \n",
            "11058             11           20       4.0    2006/2007   2015/2016   \n",
            "11059             10           19       0.0    2006/2007   2015/2016   \n",
            "\n",
            "          season  \n",
            "0      2014/2015  \n",
            "1      2015/2016  \n",
            "2      2015/2016  \n",
            "3      2013/2014  \n",
            "4      2010/2011  \n",
            "...          ...  \n",
            "11055  2015/2016  \n",
            "11056  2015/2016  \n",
            "11057  2015/2016  \n",
            "11058  2015/2016  \n",
            "11059  2015/2016  \n",
            "\n",
            "[11060 rows x 15 columns]\n"
          ]
        }
      ]
    },
    {
      "cell_type": "code",
      "source": [
        "print(partidas_europeias[['season', 'country_name', 'league_name', 'home_team_goal', 'away_team_goal']])"
      ],
      "metadata": {
        "colab": {
          "base_uri": "https://localhost:8080/"
        },
        "id": "Gp4i5PCMi1OR",
        "outputId": "6cfadb9c-16a4-447e-8bb5-e0a589fca665"
      },
      "execution_count": 11,
      "outputs": [
        {
          "output_type": "stream",
          "name": "stdout",
          "text": [
            "          season country_name               league_name  home_team_goal  \\\n",
            "0      2008/2009      Belgium    Belgium Jupiler League               1   \n",
            "1      2008/2009      Belgium    Belgium Jupiler League               0   \n",
            "2      2008/2009      Belgium    Belgium Jupiler League               0   \n",
            "3      2008/2009      Belgium    Belgium Jupiler League               5   \n",
            "4      2008/2009      Belgium    Belgium Jupiler League               1   \n",
            "...          ...          ...                       ...             ...   \n",
            "25974  2015/2016  Switzerland  Switzerland Super League               1   \n",
            "25975  2015/2016  Switzerland  Switzerland Super League               1   \n",
            "25976  2015/2016  Switzerland  Switzerland Super League               2   \n",
            "25977  2015/2016  Switzerland  Switzerland Super League               0   \n",
            "25978  2015/2016  Switzerland  Switzerland Super League               4   \n",
            "\n",
            "       away_team_goal  \n",
            "0                   1  \n",
            "1                   0  \n",
            "2                   3  \n",
            "3                   0  \n",
            "4                   3  \n",
            "...               ...  \n",
            "25974               0  \n",
            "25975               2  \n",
            "25976               0  \n",
            "25977               0  \n",
            "25978               3  \n",
            "\n",
            "[25979 rows x 5 columns]\n"
          ]
        }
      ]
    },
    {
      "cell_type": "code",
      "source": [
        "print(partidas_europeias.columns.tolist())"
      ],
      "metadata": {
        "colab": {
          "base_uri": "https://localhost:8080/"
        },
        "id": "0oGgev84kqOv",
        "outputId": "79d0d452-3b4e-4489-aa38-efd90b3e0918"
      },
      "execution_count": 12,
      "outputs": [
        {
          "output_type": "stream",
          "name": "stdout",
          "text": [
            "['id', 'country_id', 'league_id', 'season', 'stage', 'date', 'match_api_id', 'home_team_api_id', 'away_team_api_id', 'home_team_goal', 'away_team_goal', 'home_player_X1', 'home_player_X2', 'home_player_X3', 'home_player_X4', 'home_player_X5', 'home_player_X6', 'home_player_X7', 'home_player_X8', 'home_player_X9', 'home_player_X10', 'home_player_X11', 'away_player_X1', 'away_player_X2', 'away_player_X3', 'away_player_X4', 'away_player_X5', 'away_player_X6', 'away_player_X7', 'away_player_X8', 'away_player_X9', 'away_player_X10', 'away_player_X11', 'home_player_Y1', 'home_player_Y2', 'home_player_Y3', 'home_player_Y4', 'home_player_Y5', 'home_player_Y6', 'home_player_Y7', 'home_player_Y8', 'home_player_Y9', 'home_player_Y10', 'home_player_Y11', 'away_player_Y1', 'away_player_Y2', 'away_player_Y3', 'away_player_Y4', 'away_player_Y5', 'away_player_Y6', 'away_player_Y7', 'away_player_Y8', 'away_player_Y9', 'away_player_Y10', 'away_player_Y11', 'home_player_1', 'home_player_2', 'home_player_3', 'home_player_4', 'home_player_5', 'home_player_6', 'home_player_7', 'home_player_8', 'home_player_9', 'home_player_10', 'home_player_11', 'away_player_1', 'away_player_2', 'away_player_3', 'away_player_4', 'away_player_5', 'away_player_6', 'away_player_7', 'away_player_8', 'away_player_9', 'away_player_10', 'away_player_11', 'goal', 'shoton', 'shotoff', 'foulcommit', 'card', 'cross', 'corner', 'possession', 'B365H', 'B365D', 'B365A', 'BWH', 'BWD', 'BWA', 'IWH', 'IWD', 'IWA', 'LBH', 'LBD', 'LBA', 'PSH', 'PSD', 'PSA', 'WHH', 'WHD', 'WHA', 'SJH', 'SJD', 'SJA', 'VCH', 'VCD', 'VCA', 'GBH', 'GBD', 'GBA', 'BSH', 'BSD', 'BSA', 'league_name', 'country_name']\n"
          ]
        }
      ]
    },
    {
      "cell_type": "code",
      "source": [
        "colunas_relevantes = [\n",
        "    'country_id',\n",
        "    'league_id',\n",
        "    'season',\n",
        "    'stage',\n",
        "    'date',\n",
        "    'match_api_id',\n",
        "    'home_team_api_id',\n",
        "    'away_team_api_id',\n",
        "    'home_team_goal',\n",
        "    'away_team_goal',\n",
        "    'card',\n",
        "    'possession',\n",
        "    'league_name',\n",
        "    'country_name'\n",
        "]"
      ],
      "metadata": {
        "id": "4KZnjBIDkxDu"
      },
      "execution_count": 13,
      "outputs": []
    },
    {
      "cell_type": "code",
      "source": [
        "partidas_filtradas = partidas_europeias[colunas_relevantes]"
      ],
      "metadata": {
        "id": "MwPEp3tPmWlN"
      },
      "execution_count": 14,
      "outputs": []
    },
    {
      "cell_type": "code",
      "source": [
        "print(partidas_filtradas)"
      ],
      "metadata": {
        "colab": {
          "base_uri": "https://localhost:8080/"
        },
        "id": "XVhYnENFmsgt",
        "outputId": "431a95b5-dcc3-4f0b-b28d-5ab553bfc562"
      },
      "execution_count": 15,
      "outputs": [
        {
          "output_type": "stream",
          "name": "stdout",
          "text": [
            "       country_id  league_id     season  stage                 date  \\\n",
            "0               1          1  2008/2009      1  2008-08-17 00:00:00   \n",
            "1               1          1  2008/2009      1  2008-08-16 00:00:00   \n",
            "2               1          1  2008/2009      1  2008-08-16 00:00:00   \n",
            "3               1          1  2008/2009      1  2008-08-17 00:00:00   \n",
            "4               1          1  2008/2009      1  2008-08-16 00:00:00   \n",
            "...           ...        ...        ...    ...                  ...   \n",
            "25974       24558      24558  2015/2016      9  2015-09-22 00:00:00   \n",
            "25975       24558      24558  2015/2016      9  2015-09-23 00:00:00   \n",
            "25976       24558      24558  2015/2016      9  2015-09-23 00:00:00   \n",
            "25977       24558      24558  2015/2016      9  2015-09-22 00:00:00   \n",
            "25978       24558      24558  2015/2016      9  2015-09-23 00:00:00   \n",
            "\n",
            "       match_api_id  home_team_api_id  away_team_api_id  home_team_goal  \\\n",
            "0            492473              9987              9993               1   \n",
            "1            492474             10000              9994               0   \n",
            "2            492475              9984              8635               0   \n",
            "3            492476              9991              9998               5   \n",
            "4            492477              7947              9985               1   \n",
            "...             ...               ...               ...             ...   \n",
            "25974       1992091             10190             10191               1   \n",
            "25975       1992092              9824             10199               1   \n",
            "25976       1992093              9956             10179               2   \n",
            "25977       1992094              7896             10243               0   \n",
            "25978       1992095             10192              9931               4   \n",
            "\n",
            "       away_team_goal card possession               league_name country_name  \n",
            "0                   1  NaN        NaN    Belgium Jupiler League      Belgium  \n",
            "1                   0  NaN        NaN    Belgium Jupiler League      Belgium  \n",
            "2                   3  NaN        NaN    Belgium Jupiler League      Belgium  \n",
            "3                   0  NaN        NaN    Belgium Jupiler League      Belgium  \n",
            "4                   3  NaN        NaN    Belgium Jupiler League      Belgium  \n",
            "...               ...  ...        ...                       ...          ...  \n",
            "25974               0  NaN        NaN  Switzerland Super League  Switzerland  \n",
            "25975               2  NaN        NaN  Switzerland Super League  Switzerland  \n",
            "25976               0  NaN        NaN  Switzerland Super League  Switzerland  \n",
            "25977               0  NaN        NaN  Switzerland Super League  Switzerland  \n",
            "25978               3  NaN        NaN  Switzerland Super League  Switzerland  \n",
            "\n",
            "[25979 rows x 14 columns]\n"
          ]
        }
      ]
    },
    {
      "cell_type": "code",
      "source": [
        "partidas_filtradas['card'].notna().any()"
      ],
      "metadata": {
        "colab": {
          "base_uri": "https://localhost:8080/"
        },
        "id": "XOlU0zeAnLZ7",
        "outputId": "b6db6f71-26c7-412f-95b0-c00e075d5447"
      },
      "execution_count": 16,
      "outputs": [
        {
          "output_type": "execute_result",
          "data": {
            "text/plain": [
              "np.True_"
            ]
          },
          "metadata": {},
          "execution_count": 16
        }
      ]
    },
    {
      "cell_type": "code",
      "source": [
        "partidas_filtradas['possession'].notna().any()"
      ],
      "metadata": {
        "colab": {
          "base_uri": "https://localhost:8080/"
        },
        "id": "x84PU4lxndVL",
        "outputId": "7cb57067-91fb-41c7-8441-b09b72a5313d"
      },
      "execution_count": 17,
      "outputs": [
        {
          "output_type": "execute_result",
          "data": {
            "text/plain": [
              "np.True_"
            ]
          },
          "metadata": {},
          "execution_count": 17
        }
      ]
    },
    {
      "cell_type": "code",
      "source": [
        "partidas_filtradas.info()"
      ],
      "metadata": {
        "colab": {
          "base_uri": "https://localhost:8080/"
        },
        "id": "7-7C4n99oF3r",
        "outputId": "638791e7-08cd-4a2e-f7a6-189cc3fb6c73"
      },
      "execution_count": 18,
      "outputs": [
        {
          "output_type": "stream",
          "name": "stdout",
          "text": [
            "<class 'pandas.core.frame.DataFrame'>\n",
            "RangeIndex: 25979 entries, 0 to 25978\n",
            "Data columns (total 14 columns):\n",
            " #   Column            Non-Null Count  Dtype \n",
            "---  ------            --------------  ----- \n",
            " 0   country_id        25979 non-null  int64 \n",
            " 1   league_id         25979 non-null  int64 \n",
            " 2   season            25979 non-null  object\n",
            " 3   stage             25979 non-null  int64 \n",
            " 4   date              25979 non-null  object\n",
            " 5   match_api_id      25979 non-null  int64 \n",
            " 6   home_team_api_id  25979 non-null  int64 \n",
            " 7   away_team_api_id  25979 non-null  int64 \n",
            " 8   home_team_goal    25979 non-null  int64 \n",
            " 9   away_team_goal    25979 non-null  int64 \n",
            " 10  card              14217 non-null  object\n",
            " 11  possession        14217 non-null  object\n",
            " 12  league_name       25979 non-null  object\n",
            " 13  country_name      25979 non-null  object\n",
            "dtypes: int64(8), object(6)\n",
            "memory usage: 2.8+ MB\n"
          ]
        }
      ]
    },
    {
      "cell_type": "code",
      "source": [
        "partidas_filtradas['date'] = pd.to_datetime(partidas_filtradas['date'])"
      ],
      "metadata": {
        "colab": {
          "base_uri": "https://localhost:8080/"
        },
        "collapsed": true,
        "id": "TI5VhlfSuf3z",
        "outputId": "6e9755a4-d7c1-427c-a6f3-0a43ae2c11aa"
      },
      "execution_count": 19,
      "outputs": [
        {
          "output_type": "stream",
          "name": "stderr",
          "text": [
            "/tmp/ipython-input-2490248204.py:1: SettingWithCopyWarning: \n",
            "A value is trying to be set on a copy of a slice from a DataFrame.\n",
            "Try using .loc[row_indexer,col_indexer] = value instead\n",
            "\n",
            "See the caveats in the documentation: https://pandas.pydata.org/pandas-docs/stable/user_guide/indexing.html#returning-a-view-versus-a-copy\n",
            "  partidas_filtradas['date'] = pd.to_datetime(partidas_filtradas['date'])\n"
          ]
        }
      ]
    },
    {
      "cell_type": "code",
      "source": [
        "print(analise_gols)"
      ],
      "metadata": {
        "colab": {
          "base_uri": "https://localhost:8080/"
        },
        "id": "fuEtgkPuoPiq",
        "outputId": "f89450bd-796c-4f70-9761-d2c848627fd8"
      },
      "execution_count": 20,
      "outputs": [
        {
          "output_type": "stream",
          "name": "stdout",
          "text": [
            "         season  team_api_id                  time  total_gols_scored  \\\n",
            "0     2010/2011         8483             Blackpool                 55   \n",
            "1     2008/2009         7947         FCV Dender EH                 44   \n",
            "2     2015/2016         7896                Lugano                 46   \n",
            "3     2008/2009         9996  Royal Excel Mouscron                 42   \n",
            "4     2015/2016         8306         UD Las Palmas                 45   \n",
            "...         ...          ...                   ...                ...   \n",
            "1476  2013/2014         7841            Rio Ave FC                 21   \n",
            "1477  2008/2009         7841            Rio Ave FC                 20   \n",
            "1478  2013/2014         8475      Waasland-Beveren                  7   \n",
            "1479  2013/2014         9991              KAA Gent                 11   \n",
            "1480  2013/2014         9989             Lierse SK                  5   \n",
            "\n",
            "      total_partidas  media_gols_partida  \n",
            "0                 38            1.447368  \n",
            "1                 34            1.294118  \n",
            "2                 36            1.277778  \n",
            "3                 34            1.235294  \n",
            "4                 38            1.184211  \n",
            "...              ...                 ...  \n",
            "1476             248            0.084677  \n",
            "1477             248            0.080645  \n",
            "1478              96            0.072917  \n",
            "1479             218            0.050459  \n",
            "1480             126            0.039683  \n",
            "\n",
            "[1481 rows x 6 columns]\n"
          ]
        }
      ]
    },
    {
      "cell_type": "code",
      "source": [
        "#Padronizar as colunas team_api para se comunicar com a tabela ['analise_gols']\n",
        "home = partidas_filtradas.copy()\n",
        "home['team_api_id'] = home['home_team_api_id']\n",
        "home['home_away'] = 'home'\n",
        "\n",
        "away = partidas_filtradas.copy()\n",
        "away['team_api_id'] = away['away_team_api_id']\n",
        "away['home_away'] = 'away'\n",
        "\n",
        "partidas_filtradas = pd.concat([home, away])\n",
        "\n",
        "partidas_long = pd.concat([home, away], ignore_index=True)"
      ],
      "metadata": {
        "id": "-i4r2O0op5VZ"
      },
      "execution_count": 21,
      "outputs": []
    },
    {
      "cell_type": "code",
      "source": [
        "print(partidas_long)"
      ],
      "metadata": {
        "colab": {
          "base_uri": "https://localhost:8080/"
        },
        "id": "fd1NKIvYwV_x",
        "outputId": "d6b4e588-0c98-4acc-ede5-6708b1d46fd0"
      },
      "execution_count": 22,
      "outputs": [
        {
          "output_type": "stream",
          "name": "stdout",
          "text": [
            "       country_id  league_id     season  stage       date  match_api_id  \\\n",
            "0               1          1  2008/2009      1 2008-08-17        492473   \n",
            "1               1          1  2008/2009      1 2008-08-16        492474   \n",
            "2               1          1  2008/2009      1 2008-08-16        492475   \n",
            "3               1          1  2008/2009      1 2008-08-17        492476   \n",
            "4               1          1  2008/2009      1 2008-08-16        492477   \n",
            "...           ...        ...        ...    ...        ...           ...   \n",
            "51953       24558      24558  2015/2016      9 2015-09-22       1992091   \n",
            "51954       24558      24558  2015/2016      9 2015-09-23       1992092   \n",
            "51955       24558      24558  2015/2016      9 2015-09-23       1992093   \n",
            "51956       24558      24558  2015/2016      9 2015-09-22       1992094   \n",
            "51957       24558      24558  2015/2016      9 2015-09-23       1992095   \n",
            "\n",
            "       home_team_api_id  away_team_api_id  home_team_goal  away_team_goal  \\\n",
            "0                  9987              9993               1               1   \n",
            "1                 10000              9994               0               0   \n",
            "2                  9984              8635               0               3   \n",
            "3                  9991              9998               5               0   \n",
            "4                  7947              9985               1               3   \n",
            "...                 ...               ...             ...             ...   \n",
            "51953             10190             10191               1               0   \n",
            "51954              9824             10199               1               2   \n",
            "51955              9956             10179               2               0   \n",
            "51956              7896             10243               0               0   \n",
            "51957             10192              9931               4               3   \n",
            "\n",
            "      card possession               league_name country_name  team_api_id  \\\n",
            "0      NaN        NaN    Belgium Jupiler League      Belgium         9987   \n",
            "1      NaN        NaN    Belgium Jupiler League      Belgium        10000   \n",
            "2      NaN        NaN    Belgium Jupiler League      Belgium         9984   \n",
            "3      NaN        NaN    Belgium Jupiler League      Belgium         9991   \n",
            "4      NaN        NaN    Belgium Jupiler League      Belgium         7947   \n",
            "...    ...        ...                       ...          ...          ...   \n",
            "51953  NaN        NaN  Switzerland Super League  Switzerland        10191   \n",
            "51954  NaN        NaN  Switzerland Super League  Switzerland        10199   \n",
            "51955  NaN        NaN  Switzerland Super League  Switzerland        10179   \n",
            "51956  NaN        NaN  Switzerland Super League  Switzerland        10243   \n",
            "51957  NaN        NaN  Switzerland Super League  Switzerland         9931   \n",
            "\n",
            "      home_away  \n",
            "0          home  \n",
            "1          home  \n",
            "2          home  \n",
            "3          home  \n",
            "4          home  \n",
            "...         ...  \n",
            "51953      away  \n",
            "51954      away  \n",
            "51955      away  \n",
            "51956      away  \n",
            "51957      away  \n",
            "\n",
            "[51958 rows x 16 columns]\n"
          ]
        }
      ]
    },
    {
      "cell_type": "code",
      "source": [
        "player_attributes.info()"
      ],
      "metadata": {
        "colab": {
          "base_uri": "https://localhost:8080/"
        },
        "id": "H6XzfnmvJJe4",
        "outputId": "25b15a40-6bae-4d3b-c999-c38bdd230813"
      },
      "execution_count": 24,
      "outputs": [
        {
          "output_type": "stream",
          "name": "stdout",
          "text": [
            "<class 'pandas.core.frame.DataFrame'>\n",
            "RangeIndex: 11060 entries, 0 to 11059\n",
            "Data columns (total 15 columns):\n",
            " #   Column            Non-Null Count  Dtype         \n",
            "---  ------            --------------  -----         \n",
            " 0   player_api_id     11060 non-null  int64         \n",
            " 1   player_name       11060 non-null  object        \n",
            " 2   altura            11060 non-null  float64       \n",
            " 3   peso_incial       11060 non-null  int64         \n",
            " 4   peso_final        11060 non-null  int64         \n",
            " 5   primeira_data     11060 non-null  datetime64[ns]\n",
            " 6   primeiro_overall  11060 non-null  float64       \n",
            " 7   ultima_data       11060 non-null  datetime64[ns]\n",
            " 8   ultimo_overall    11060 non-null  float64       \n",
            " 9   idade_inicial     11060 non-null  int64         \n",
            " 10  idade_final       11060 non-null  int64         \n",
            " 11  evolucao          11060 non-null  float64       \n",
            " 12  season_first      11060 non-null  object        \n",
            " 13  season_last       11060 non-null  object        \n",
            " 14  season            11060 non-null  object        \n",
            "dtypes: datetime64[ns](2), float64(4), int64(5), object(4)\n",
            "memory usage: 1.3+ MB\n"
          ]
        }
      ]
    },
    {
      "cell_type": "code",
      "source": [
        "player_attributes.to_csv('Caracteristicas_Jogadores.csv', index=False)\n",
        "partidas_long.to_csv('Partidas_Filtradas.csv', index=False)\n"
      ],
      "metadata": {
        "id": "fyKHunnoPMqc"
      },
      "execution_count": 23,
      "outputs": []
    }
  ]
}